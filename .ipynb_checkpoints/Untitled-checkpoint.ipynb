{
 "cells": [
  {
   "cell_type": "code",
   "execution_count": null,
   "id": "fd2e55cd",
   "metadata": {},
   "outputs": [],
   "source": [
    "using JuMP, DataFrames, Gurobi, CSV\n",
    "\n",
    "df = CSV.read(\"Demand.csv\", DataFrame)\n",
    "d = df[!,2]\n",
    "T = 1:length(d)\n",
    "W = [1:182,183:365, 366:547, 548:730]\n",
    "\n",
    "c = 150+1000+150\n",
    "h = c*(0.1/365)\n",
    "K = 1500\n",
    "p = 1450 \n",
    "M = 20\n",
    "\n",
    "m = Model(Gurobi.Optimizer)\n",
    "@variable(m, 20 >= q[0:length(d)] >= 0)\n",
    "@variable(m, I[0:length(d)] >= 0, Int)\n",
    "@variable(m, 20 >= x[t in T] >= 0)\n",
    "@variable(m, s[t in T] >= 0)\n",
    "@variable(m, r[t in T] >= 0)\n",
    "@variable(m, z[t in T], Bin)\n",
    "@variable(m, b[t in T], Bin)\n",
    "\n",
    "@variable(m, R[1:length(W)] >= 0)\n",
    "@variable(m, Q[1:length(W)] >= 0)\n",
    "\n",
    "@constraint(m, Inv_1[t in T], I[t-1] +q[t-1] -d[t] >= 1 +(-100-1)b[t])\n",
    "@constraint(m, Inv_2[t in T], I[t-1] +q[t-1] -d[t] >= -100*(1-b[t]))\n",
    "@constraint(m, Demand1[t in T], I[t] == q[t-1] + I[t-1] - x[t])\n",
    "\n",
    "@constraint(m, Init_Inv_0, I[0] == 260)\n",
    "@constraint(m, Init_q_0, q[0] == 0)\n",
    "\n",
    "@constraint(m, constant_R[i in range(1,length(W)),t in W[i]], r[t] == R[i])\n",
    "@constraint(m, constant_Q[i in range(1,length(W)),t in W[i]], q[t] == Q[i])\n",
    "@constraint(m, Reorder[t in T], I[t-1]+q[t-1] >= r[t])\n",
    "@constraint(m, production[t in T],q[t]<=20*z[t])\n",
    "\n",
    "\n",
    "@objective(m, Max, (p-150)*sum(x[t] for t in T)  - h*sum(I[t] for t in T) -\n",
    "K*sum(z[t] for t in T) - 1000*sum(q[t] for t in T))\n",
    " \n"
   ]
  },
  {
   "cell_type": "code",
   "execution_count": null,
   "id": "2c779964",
   "metadata": {},
   "outputs": [],
   "source": [
    "solution_summary(m)\n",
    "\n",
    "value.(b)"
   ]
  },
  {
   "cell_type": "code",
   "execution_count": null,
   "id": "55713533",
   "metadata": {},
   "outputs": [],
   "source": [
    "value.(q)"
   ]
  },
  {
   "cell_type": "code",
   "execution_count": null,
   "id": "3ebbbc0a",
   "metadata": {},
   "outputs": [],
   "source": [
    "value.(q)"
   ]
  },
  {
   "cell_type": "code",
   "execution_count": null,
   "id": "636862aa",
   "metadata": {},
   "outputs": [],
   "source": [
    "d"
   ]
  },
  {
   "cell_type": "code",
   "execution_count": null,
   "id": "d416964e",
   "metadata": {},
   "outputs": [],
   "source": []
  },
  {
   "cell_type": "code",
   "execution_count": null,
   "id": "096c1572",
   "metadata": {},
   "outputs": [],
   "source": [
    "sum(value.(z))"
   ]
  }
 ],
 "metadata": {
  "kernelspec": {
   "display_name": "Julia 1.7.3",
   "language": "julia",
   "name": "julia-1.7"
  },
  "language_info": {
   "file_extension": ".jl",
   "mimetype": "application/julia",
   "name": "julia",
   "version": "1.7.3"
  }
 },
 "nbformat": 4,
 "nbformat_minor": 5
}
